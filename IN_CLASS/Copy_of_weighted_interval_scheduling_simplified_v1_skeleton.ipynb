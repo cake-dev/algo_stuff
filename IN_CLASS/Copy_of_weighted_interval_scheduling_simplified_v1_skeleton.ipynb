{
  "cells": [
    {
      "cell_type": "code",
      "execution_count": 1,
      "metadata": {
        "colab": {
          "base_uri": "https://localhost:8080/"
        },
        "id": "bMHBotU4QlFZ",
        "outputId": "f19952a9-195e-4c6a-d12c-0f97dd32e8ff"
      },
      "outputs": [],
      "source": [
        "# Weighted Interval Scheduling Algorithm Using\n",
        "#  Recursive \"top-down\" Dynamic Programming\n",
        "# Author: Dr. Jordan Malof, University of Montana\n",
        "# Course: CSCI 332, Fall 2023\n",
        "# Date:  10/29/2023\n",
        "#\n",
        "# INSTRUCTIONS: Below is a skeleton of a  Dynamic programming algorithm to\n",
        "# solve the weighted interval scheduling problem in Chapter 6.1 of the\n",
        "# Kleinberg-Tardos texbook.  We will be implementing the \"top-down\"\n",
        "# recursive form of the algorithm that is discussed in Chapter 6.1, as opposed\n",
        "# to the \"bottom-up\" version in Chapter 6.2.\n",
        "#\n",
        "# We will work with numpy arrays in this exercise because numpy has some\n",
        "#  useful functions that will make the job a bit easier.\n",
        "#\n",
        "#\n",
        "# Needed libraries\n",
        "import numpy as np\n",
        "import matplotlib.pyplot as plt\n",
        "import random\n",
        "\n",
        "# import debugger libraries (OPTIONAL)\n",
        "import ipdb\n",
        "\n",
        "# Uncommont this to turn debugger on.\n",
        "# %pdb on\n",
        "# Uncomment this to turn debugger off\n",
        "# %pdb off\n",
        "\n",
        "# Remember you can write ipdb.set_trace() to set a breakpoint\n",
        "# after turning the debugger on"
      ]
    },
    {
      "cell_type": "code",
      "execution_count": 18,
      "metadata": {
        "id": "TAB-GoboRH6Q"
      },
      "outputs": [],
      "source": [
        "#\n",
        "#  Some test input interval sets below\n",
        "#  A list of intervals, where each entry in the list\n",
        "#  contains the start time (s_i), finish time (f_i), and value (v_i)\n",
        "#  for the i^th interval,\n",
        "#   i.e.,  interval_list[i] = [s_i, f_i, v_i]\n",
        "#\n",
        "#  For simplicity, we assume these examples are already ordered by\n",
        "#   finish time.\n",
        "#\n",
        "#\n",
        "# ##########################################\n",
        "# ####### A Harder Example  Still     ####\n",
        "# ##########################################\n",
        "\n",
        "# # adjaceny connectivity list for graph\n",
        "# interval_list = np.array([[1,3,1],\n",
        "#                   [0.5,3.5,8],\n",
        "#                   [2,4,4],\n",
        "#                   [3,5,2]])\n",
        "#\n",
        "#\n",
        "# ##########################################\n",
        "# ####### Slightly Harder EXAMPLE       ####\n",
        "# ##########################################\n",
        "\n",
        "# adjaceny connectivity list for graph\n",
        "# interval_list = np.array([[1,3,1],\n",
        "#                  [2,4,4],\n",
        "#                 [3,5,2],])\n",
        "\n",
        "# What should the optimal solution be?\n",
        "# m = [1, 4, 4]\n",
        "# selected_intervals = [1]\n",
        "\n",
        "\n",
        "##########################################\n",
        "####### SIMPLE INPUT EXAMPLE       ####\n",
        "##########################################\n",
        "\n",
        "# A list of intervals, with [s_i, f_i, v_i]\n",
        "interval_list = np.array([[1,3,1],\n",
        "                [2,4,1],\n",
        "                [3,5,1],])\n",
        "#\n",
        "# What should the optimal solution be?\n",
        "# m = [1, 1, 2]\n",
        "# selected_intervals = [0, 2]\n"
      ]
    },
    {
      "cell_type": "code",
      "execution_count": 19,
      "metadata": {
        "colab": {
          "base_uri": "https://localhost:8080/"
        },
        "id": "jQ1m1JCQpuM0",
        "outputId": "d5c84d6c-9450-44e4-ab24-e8c95cfd61cb"
      },
      "outputs": [
        {
          "name": "stdout",
          "output_type": "stream",
          "text": [
            "[1 1 2]\n",
            "[0. 2.]\n"
          ]
        }
      ],
      "source": [
        "# TEST YOUR CODE\n",
        "#  NOTE: Don't forget to execute the blocks with\n",
        "#  the other functions in them!\n",
        "#\n",
        "m,optimal_indices = my_scheduler(interval_list)\n",
        "print(m)\n",
        "print(optimal_indices)"
      ]
    },
    {
      "cell_type": "code",
      "execution_count": 11,
      "metadata": {
        "id": "kreI_JyrTyO7"
      },
      "outputs": [],
      "source": [
        "# IMPLEMENTATION of dynamic programming algorithm to find the optimal subset\n",
        "#  of intervals in 'interval_list' to solve the weighted interval scheduling\n",
        "#  problem.  This returns the optimal value 'm', and the indices of the\n",
        "#  intervals.\n",
        "#\n",
        "# INPUT:\n",
        "#     sorted_interval_list - an nx3 np array with the start time, finish time, and weight\n",
        "#         of each interval.  We assume that the input is already sorted by\n",
        "#          finish time.\n",
        "#\n",
        "# OUTPUT\n",
        "#     m - the solution to each optimization problem nx1\n",
        "#     optimal_indices - indices of intervals in the optimal solution, kx1 array where k is the number of selected intervals\n",
        "\n",
        "def my_scheduler(sorted_interval_list):\n",
        "\n",
        "  #Get number of intervals in set\n",
        "  n = sorted_interval_list.shape[0]\n",
        "\n",
        "\n",
        "  # Compute the 'p_ind' list\n",
        "  p_ind = -1*np.ones(n,dtype=np.int8)\n",
        "  for i in np.arange(n):\n",
        "    start_time = sorted_interval_list[i,0]\n",
        "\n",
        "    # Working backwards in finish time, find first interval that finishes\n",
        "    # before the current interval starts\n",
        "    for ii in np.arange(i-1,-1,-1): # array of indices from i-1 to 0, in reverse order\n",
        "            ####################################\n",
        "            ### FILL THIS IN ###################\n",
        "            ####################################\n",
        "      if sorted_interval_list[ii,1]<=start_time: # if finish time is before start time\n",
        "        p_ind[i] = ii\n",
        "        break\n",
        "\n",
        "  # Initialize list of optimal values\n",
        "  m = np.zeros(n,dtype=np.int8)\n",
        "\n",
        "  # Get list of interval values, v_i\n",
        "  v = sorted_interval_list[:,2]\n",
        "\n",
        "  # Run the recursion to compute optimal solutions for each sub-problem\n",
        "  val,m = m_compute_opt(n-1,m,p_ind,v)\n",
        "\n",
        "  # Find the solution\n",
        "  optimal_indices = np.array([])\n",
        "  optimal_indices = find_solution(n-1, m, p_ind,v,optimal_indices)\n",
        "\n",
        "  # Return results\n",
        "  # return optimal_indices,m\n",
        "  return m,optimal_indices"
      ]
    },
    {
      "cell_type": "code",
      "execution_count": 10,
      "metadata": {
        "id": "dw2MM321RLiZ"
      },
      "outputs": [],
      "source": [
        "# IMPLEMENTATION of recursive dynamic programming algorithm to find\n",
        "#  the optimal solution to all sub-problems\n",
        "#  Assume we input an n-length adjacency list, 'A', representing a graph, and\n",
        "#  an adjency list, 'W', representing the weight of each directed edge.\n",
        "#  We then return a list 'd' indicating the shortest distance to each node\n",
        "#  in the input graph\n",
        "#\n",
        "# INPUT:\n",
        "#     i - index of sorted intervals that we are considering.  Assumes intervals\n",
        "#         have been sorted by their finish times\n",
        "#     m - array of values of optimal solutions, as a function of the interval\n",
        "#         index for which we are solving the problem.\n",
        "#     p_ind - array of indices indicating, for each interval, which interval in\n",
        "#         the set has the latest finish time while still not conflicting with\n",
        "#         the start time of that interval\n",
        "#     v - values/weights of each interval\n",
        "#\n",
        "# OUTPUT\n",
        "#     m - the optimal value of the interval scheduling problem of each size,\n",
        "#            with solutions filled in from at least 1...j.\n",
        "#\n",
        "\n",
        "\n",
        "def m_compute_opt(i, m, p_ind, v):\n",
        "    # If we are at i=0, then by definition optimal solution is 0\n",
        "    if i == -1:\n",
        "        return 0, m\n",
        "\n",
        "    # Check if the solution already exists\n",
        "    #  if it does, then just retun it\n",
        "    elif m[i] != 0:\n",
        "        return m[i], m\n",
        "\n",
        "    # If optimal solution doesn't already exist, compute it\n",
        "    else:\n",
        "        # Either we take the current interval i, or we skip it.\n",
        "        # If we take it, then we add its value and the solution of p_ind[i]\n",
        "        # If we skip it, then the solution is the same as the previous (i.e., m[i - 1])\n",
        "        m[i] = max(\n",
        "            v[i] + m_compute_opt(p_ind[i], m, p_ind, v)[0],\n",
        "            m_compute_opt(i - 1, m, p_ind, v)[0],\n",
        "        )\n",
        "        return m[i], m\n"
      ]
    },
    {
      "cell_type": "code",
      "execution_count": 9,
      "metadata": {
        "id": "Gm4FBUUXTQrA"
      },
      "outputs": [],
      "source": [
        "#     optimal_list - the indices of intervals included in the optimal solution\n",
        "#\n",
        "\n",
        "def find_solution(i, m, p_ind,v,optimal_indices):\n",
        "\n",
        "  # If i<0 then we have reached bottom of recursion - there\n",
        "  #  are no more intervals to select from\n",
        "  if i<0:\n",
        "    optimal_indices = optimal_indices # base case\n",
        "\n",
        "  else:\n",
        "    if(i >= 1 and m[i] == m[i-1]): \n",
        "      # If the optimal solution for i is the same as the optimal solution\n",
        "      # for i-1, then the solution does not include interval i.\n",
        "      optimal_indices = find_solution(i-1, m, p_ind,v,optimal_indices) # this is the recursive call for the case where we don't include interval i\n",
        "    else:\n",
        "      # If the optimal solution for i is not the same as the optimal solution\n",
        "      # for i-1, then the solution includes interval i.\n",
        "      optimal_indices = find_solution(p_ind[i], m, p_ind,v,optimal_indices) # this is the recursive call for the case where we do include interval i\n",
        "      optimal_indices = np.append(optimal_indices,i) # add interval i to the list of optimal intervals\n",
        "\n",
        "\n",
        "  return optimal_indices\n"
      ]
    }
  ],
  "metadata": {
    "colab": {
      "provenance": []
    },
    "kernelspec": {
      "display_name": "Python 3",
      "name": "python3"
    },
    "language_info": {
      "codemirror_mode": {
        "name": "ipython",
        "version": 3
      },
      "file_extension": ".py",
      "mimetype": "text/x-python",
      "name": "python",
      "nbconvert_exporter": "python",
      "pygments_lexer": "ipython3",
      "version": "3.10.12"
    }
  },
  "nbformat": 4,
  "nbformat_minor": 0
}
