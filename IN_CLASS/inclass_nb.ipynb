{
 "cells": [
  {
   "cell_type": "code",
   "execution_count": 1,
   "metadata": {},
   "outputs": [],
   "source": [
    "import numpy as np"
   ]
  },
  {
   "cell_type": "code",
   "execution_count": 3,
   "metadata": {},
   "outputs": [
    {
     "name": "stdout",
     "output_type": "stream",
     "text": [
      "(16, [(1, 3, 5), (5, 8, 11)])\n"
     ]
    }
   ],
   "source": [
    "# dynamic programming solution to weighted interval scheduling\n",
    "# returns optimal profit and list of jobs\n",
    "def weighted_interval_scheduling(jobs):\n",
    "    # sort jobs by finish time\n",
    "    jobs.sort(key=lambda x: x[1])\n",
    "    # initialize table of optimal profits\n",
    "    profits = [0]\n",
    "    # initialize table of optimal solutions\n",
    "    solutions = [[]]\n",
    "    # loop through jobs\n",
    "    for i in range(1, len(jobs) + 1):\n",
    "        # find latest job that does not conflict with job i\n",
    "        for j in range(i - 1, -1, -1):\n",
    "            if jobs[j][1] <= jobs[i - 1][0]:\n",
    "                break\n",
    "        # compute optimal profit\n",
    "        profit = jobs[i - 1][2] + profits[j]\n",
    "        # update tables\n",
    "        profits.append(max(profit, profits[i - 1]))\n",
    "        if profit > profits[i - 1]:\n",
    "            solutions.append(solutions[j] + [jobs[i - 1]])\n",
    "        else:\n",
    "            solutions.append(solutions[i - 1])\n",
    "    # return optimal profit and list of jobs\n",
    "    return profits[-1], solutions[-1]\n",
    "\n",
    "# test\n",
    "jobs = [(1, 3, 5), (2, 5, 6), (4, 6, 5), (6, 7, 4), (5, 8, 11), (7, 9, 2)]\n",
    "print(weighted_interval_scheduling(jobs))"
   ]
  }
 ],
 "metadata": {
  "kernelspec": {
   "display_name": "sportsenv",
   "language": "python",
   "name": "python3"
  },
  "language_info": {
   "codemirror_mode": {
    "name": "ipython",
    "version": 3
   },
   "file_extension": ".py",
   "mimetype": "text/x-python",
   "name": "python",
   "nbconvert_exporter": "python",
   "pygments_lexer": "ipython3",
   "version": "3.10.12"
  },
  "orig_nbformat": 4
 },
 "nbformat": 4,
 "nbformat_minor": 2
}
