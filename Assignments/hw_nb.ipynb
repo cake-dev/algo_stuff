{
 "cells": [
  {
   "cell_type": "markdown",
   "metadata": {},
   "source": [
    "**Prompt**: Implement Kruskal’s algorithm for finding the minimum spanning tree of a weighted graph. For\n",
    "full credit, you must utilize a union-find data structure, as described in Section 4.6 of the Kleinberg/Tardos\n",
    "textbook; i.e., as part of this assignment you must read and understand Section 4.6. Please note that\n",
    "they prescribe several optimizations, and all of these should be present in your implementation as well.\n",
    "You must also implement a mergesort algorithm.\n",
    "You can only utilize the following primitive python data structures: python lists, python dictionaries, and\n",
    "numpy arrays. You can only utilize primitive python and numpy functions, such as sum, multiplication,\n",
    "division, exponentiation, etc. If you are in doubt, then please ask. Regardless of what operations and\n",
    "data structures you use, you must conform to the API provided below."
   ]
  },
  {
   "cell_type": "markdown",
   "metadata": {},
   "source": [
    "Additional Software Specifications and I/O:\n",
    "- All code must be written in Python.\n",
    "- All numeric values should be floats, unless otherwise stated.\n",
    "- You must use *exactly* the function names described below.\n",
    "- Code must be delivered as a Python class, and include the methods specified below.\n",
    "- You can assume graphs will have unique weights, and will be fully-connected."
   ]
  },
  {
   "cell_type": "markdown",
   "metadata": {},
   "source": [
    "obj = kruskalClass()\n",
    "- Input:\n",
    "- Output: an object instantiated from your class. Your class should have the name\n",
    "‘kruskalClass’.\n",
    "\n",
    "T = findMinimumSpanningTree(A)\n",
    "- Input: ‘A’ is an NxN numpy array representing an adjacency matrix\n",
    "representation of a graph. If 𝐴 it implies there is an edge between\n",
    "𝑖𝑗 = 𝑤 > 0\n",
    "nodes 𝑖 and 𝑗 with weight 𝑤. We will only consider undirected graphs, and\n",
    "therefore ‘A’ will be an upper right triangular matrix. You can assume no two\n",
    "edge weights are the same.\n",
    "- Output: ‘T‘ is an NxN numpy array representing the minimum spanning tree of\n",
    "‘A’. We will only consider undirected graphs, and therefore ‘T’ should be an\n",
    "upper right triangular matrix.\n",
    "\n",
    "b = mergesort(a)\n",
    "- Input: ‘a’ must be a 1xK numpy array.\n",
    "- Output: ‘b’ must be a 1xK numpy array with elements in ascending order (i.e.,\n",
    "lowest value to highest).\n",
    "\n",
    "u = makeUnionFind(N)\n",
    "- Input: ‘N’ is the number of nodes in a graph.\n",
    "- Output: ‘u’ is a 1XN python dictionary, where the keys are numerical labels for\n",
    "the nodes, and the values are numpy arrays with the 0\n",
    "th entry being a pointer to a\n",
    "node in the same dictionary. The numpy arrays can be more than one 1-D if you\n",
    "want, but they must be numpy arrays, and the 0\n",
    "th entry must contain pointers to\n",
    "other nodes that are used in the ‘find’ and ‘union’ functions\n",
    "\n",
    "s = find(u,v)\n",
    "- Input: ‘u’ is a union-find data structure. ‘v’ is a numerical index for a graph node.\n",
    "- Output: ‘s’ is the numerical value corresponding to the label for the set of\n",
    "connected nodes to which ‘v’ belongs.\n",
    "\n",
    "u_out = union(u_in,s1,s2)\n",
    "- Input: ‘u_in’ is a union-find data structure. ‘s1’ and ‘s2’ are numerical values\n",
    "corresponding to the labels of two groups of graph nodes.\n",
    "- Output: ‘u_out’ is the same as ‘u-in’, except that the two groups of nodes, ‘s1’\n",
    "and ‘s2’, have been merged into a single group with a single label."
   ]
  },
  {
   "cell_type": "code",
   "execution_count": null,
   "metadata": {},
   "outputs": [],
   "source": [
    "class KruskalClass:\n",
    "\n",
    "    def __init__(self):\n",
    "        pass"
   ]
  }
 ],
 "metadata": {
  "language_info": {
   "name": "python"
  },
  "orig_nbformat": 4
 },
 "nbformat": 4,
 "nbformat_minor": 2
}
