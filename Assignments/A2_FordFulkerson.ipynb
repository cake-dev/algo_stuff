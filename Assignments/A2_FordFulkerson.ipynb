{
 "cells": [
  {
   "cell_type": "markdown",
   "metadata": {},
   "source": [
    "## CSCI 332 Fall 2022 - Software Assignment #2"
   ]
  },
  {
   "cell_type": "markdown",
   "metadata": {},
   "source": [
    "#### <u>Prompt</u>:\n",
    "\n",
    "Implement (i) Ford-Fulkerson algorithm\n",
    "\n",
    "use it in (ii) an implementation of the segmentation algorithm described in Section 7.10 of the Kleinberg/Tardos (KT) textbook.\n",
    "For full credit, you must implement the algorithm as described in Section 7.10 of the Kleinberg/Tardos textbook.\n",
    "\n",
    "Let $𝑥 ∈ 𝑁^2$ be row/column coordinates of a pixel, and $𝐼(𝑥) ∈ ℝ^3$ RGB values of a pixel at location $𝑥$. Per the implementation described in the KT textbook, each pixel is treated as a graph node and must have weights for: \n",
    "\n",
    "(i) the likelihood of that pixel being background, denoted here $𝑏(𝑥)$; \n",
    "\n",
    "(ii) the likelihood of that pixel being a foreground, denoted here $𝑎(𝑥)$; and \n",
    "\n",
    "(iii) the weights between neighboring pixels, denoted $𝑝(𝑥_𝑖, 𝑥_𝑗)$, where $𝑥_𝑖$ and $𝑥_𝑗$ are the coordinates of two pixels, $𝑖$ and $𝑗$. You must set these values in the following way:\n",
    "\n",
    "- (1) $a(x) = 442 - round(d(I(x),I(x_a)))$\n",
    "\n",
    "- (2) $b(x) = 442 - round(d(I(x),I(x_b)))$\n",
    "\n",
    "- (3) $\\begin{aligned}p(x_i, x_j) = \\begin{cases}p_0, & \\text{if } d(x_i, x_j) < 2 \\\\0, & \\text{otherwise}\\end{cases}\\end{aligned}$\n",
    "\n",
    "(where $d$ is the Euclidean distance between two pixels, and $x_a$ and $x_b$ are the coordinates of the two pixels that are the closest to $x$ and are known to be foreground and background, respectively.)\n",
    "\n",
    "In these equations $𝑑(𝐼(𝑥),𝐼(𝑥_𝑎))$ is the Euclidean distance between the RGB values at pixel coordinate $x$ and $x_a$. The coordinate $x$ is an arbitrary location in the image, while $x_a$, $x_b ∈ ℕ^2$ are coordinates of one background and one foreground pixel, respectively, that will be provided to your program as input. This is analogous to the way segmentation software is often used in practice; the user manually chooses one location in the image (i.e., a pixel coordinate) that represents the foreground they want to isolate, and one location in the image that represents the background."
   ]
  },
  {
   "cell_type": "markdown",
   "metadata": {},
   "source": [
    "---"
   ]
  },
  {
   "cell_type": "markdown",
   "metadata": {},
   "source": [
    "\n",
    "You can only utilize the following primitive python data structures inside your python class definition:\n",
    "python lists, python dictionaries, and numpy arrays.\n",
    "\n",
    "You can only utilize primitive python and numpy functions, such as sum, multiplication, division, exponentiation, logarithms, etc. \n",
    "\n",
    "One exception is that you may use someone else’s implementation of breadth-first-search or depth-first-search for use in FordFulkerson. If you are in doubt about any other functions, then please ask. Regardless of what operations and data structures you use, you must conform to the API provided below. "
   ]
  },
  {
   "cell_type": "markdown",
   "metadata": {},
   "source": [
    "---"
   ]
  },
  {
   "cell_type": "markdown",
   "metadata": {},
   "source": [
    "#### Additional Software Specifications and I/O:\n",
    "- All code must be written in Python.\n",
    "- You must use *exactly* the function names described below.\n",
    "- You may have additional functions in your class, as long as the required functions below are also\n",
    "included\n",
    "- Your class must have the following properties that can be set by the user\n",
    "    - segmentationClass.p0 – an <b>integer</b> value greater than one. This parameter will be\n",
    "used as 𝑝0\n",
    "in equation (3)\n",
    "    - segmentationClass.x_a - a 1x2 numpy array specifying the coordinate (row and\n",
    "column,respectively) of a location in the image representing the foreground.\n",
    "    - segmentationClass.x_b – a 1x2 numpy array specifying the coordinate (row and\n",
    "column,respectively) of a location in the image representing the background.\n",
    "- obj = segmentationClass()\n",
    "    - <b>Input</b>: none.\n",
    "    - <b>Output</b>: an object instantiated from your class. Your class should have the name as\n",
    "shown here ‘segmentationClass’.\n",
    "- L = obj.segmentImage(I)\n",
    "    - <b>Input</b>: 𝐼 is an 𝑁 × 𝑁 × 3 numpy array representing a color (RGB) image. Each pixel\n",
    "intensity will be have an integer value between 0 and 255.\n",
    "    - <b>Output</b>: 𝐿 is an 𝑁 × 𝑁 × 1 numpy array of binary values representing whether each\n",
    "pixel in the image is in the foreground (value of 1) or in the background (value of 0).<br>\n",
    "So, if pixel at location 𝑥 is in the foreground then 𝐿[𝑥] = 1, and if it is in the\n",
    "background we have 𝐿[𝑥] = 0, where 𝑥 is a coordinate pair, e.g., 𝑥 = (1,2) for the\n",
    "pixel in the $2^{nd}$ row and the third column (using python indexing).\n",
    "- A = obj.constructAdjacencyMatrix(I)\n",
    "    - <b>Input</b>: I is an 𝑁 × 𝑁 × 3 numpy array representing a color (RGB) image. Each pixel\n",
    "will have three intensity values, each being an integer value between 0 and 255.\n",
    "    - <b>Output</b>: A is an 𝑁 2 × 𝑁\n",
    "2 numpy array of values representing whether each pixel, 𝑥 in\n",
    "the image has an edge to any other pixel 𝑥′ in the image. The entries in the\n",
    "adjacency matrix should be positive if there is a connection between the nodes, with\n",
    "a value indicating the edge capacity between those nodes, and zero if there no edge\n",
    "connecting two nodes."
   ]
  },
  {
   "cell_type": "markdown",
   "metadata": {},
   "source": [
    "---"
   ]
  },
  {
   "cell_type": "markdown",
   "metadata": {},
   "source": [
    "#### Grading criteria\n",
    "- <b>Valid Testing Script</b> (50%): You must provide a .py “testing script” with your class that performs\n",
    "the following steps. Each of these steps must come with at least one comment that indicates\n",
    "what you are doing (10% points off if this is not done). You will lose 20% points for each one of\n",
    "the following steps that is missing, up to 50% points:\n",
    "    - Import your python class, assuming the class definition .py file is in the same file directory\n",
    "as the test script\n",
    "    - Load a test image, assuming the test image is in the same file directory as the test script\n",
    "    - Display the image using matplotlib package\n",
    "    - Instantiate your class, and set the hyperparameters\n",
    "    - Input the image to the segmentImage() function using the API specified above\n",
    "    - Display the adjacency matrix for the graph nodes corresponding to the pixels at location\n",
    "(0,0) and (1,0) in the image. The entries in the adjacency matrix should be positive if\n",
    "there is a connection between the nodes, with a value indicating the edge capacity\n",
    "between those nodes, and zero if there no edge connecting two nodes.\n",
    "    - Display the segmented image in black and white color using matplotlib, where\n",
    "segmentation values of 1 correspond to foreground (color of white), and values of 0\n",
    "correspond to the background (color of black)\n",
    "- <b>Correctness</b> (50%): I will input one or two images of my choosing (up to 15x15 pixels in size)\n",
    "into your code to verify that it produces the correct output for the top-level segmentation, as well\n",
    "as some intermediate steps. I will also vary the user-chosen hyperparameters such as 𝑥𝑎, 𝑥𝑏,\n",
    "and 𝑝0 and verify that the output changes properly."
   ]
  },
  {
   "cell_type": "markdown",
   "metadata": {},
   "source": [
    "--- "
   ]
  },
  {
   "cell_type": "markdown",
   "metadata": {},
   "source": [
    "#### How to submit the assignment:\n",
    "- Submission on Moodle by 11pm MST on 12/13/2022.\n",
    "- I recommend submitting early - at 11:01pm it will be considered a day late.\n",
    "- 5% off per day that the assignment is late, up to 2 days (11pm on Dec. 15th). 0% credit if\n",
    "submitted after Dec. 15th.\n",
    "- You must submit the following files:\n",
    "    - A .py file that contains the definition for your python class, per instructions below.\n",
    "    - A .py file that runs tests your python class, per instructions below.\n",
    "    - A simple .png image file for testing your script that is 5x5 pixels in size"
   ]
  },
  {
   "cell_type": "markdown",
   "metadata": {},
   "source": [
    "---"
   ]
  },
  {
   "cell_type": "markdown",
   "metadata": {},
   "source": [
    "Essentially, I want a min cut with x_a in one set and x_b in the other, this should separate the foreground from the background. I will use the Ford-Fulkerson algorithm to find the min cut.  Then I will use the min cut to separate the foreground from the background in the segmentImage function."
   ]
  },
  {
   "cell_type": "markdown",
   "metadata": {},
   "source": [
    "### NOTES:\n",
    "- issue lies in the weight calculations\n",
    "- also need to add source and sink outside of the image and then remove them after the min cut is found"
   ]
  },
  {
   "cell_type": "code",
   "execution_count": 56,
   "metadata": {},
   "outputs": [
    {
     "data": {
      "image/png": "[encoded data removed]",
      "text/plain": [
       "<Figure size 600x600 with 1 Axes>"
      ]
     },
     "metadata": {},
     "output_type": "display_data"
    },
    {
     "name": "stdout",
     "output_type": "stream",
     "text": [
      "loop count:  71\n",
      "loop count:  185\n",
      "loop count:  299\n",
      "loop count:  413\n",
      "loop count:  527\n",
      "loop count:  641\n",
      "loop count:  755\n",
      "loop count:  869\n",
      "loop count:  983\n",
      "loop count:  1097\n",
      "loop count:  1211\n",
      "loop count:  1325\n",
      "loop count:  1439\n",
      "loop count:  1553\n",
      "loop count:  1624\n",
      "Max flow:  35472.0\n",
      "Min cut:  [0, 1, 2, 15, 16, 17, 30, 31, 32, 33, 45, 46, 47, 48, 49, 50, 51, 53, 54, 55, 56, 57, 58, 59, 60, 61, 62, 63, 64, 65, 66, 67, 68, 69, 70, 71, 72, 73, 74, 75, 76, 77, 78, 79, 80, 81, 82, 83, 84, 85, 86, 87, 88, 89, 90, 91, 92, 93, 96, 97, 98, 99, 100, 101, 102, 103, 104, 105, 106, 107, 108, 115, 116, 117, 118, 119, 120, 121, 122, 123, 130, 131, 132, 133, 134, 135, 136, 137, 138, 145, 146, 147, 148, 149, 150, 151, 152, 153, 154, 159, 160, 161, 162, 163, 164, 165, 166, 167, 168, 169, 170, 173, 174, 175, 176, 177, 178, 179, 180, 181, 182, 183, 184, 185, 186, 187, 188, 189, 190, 191, 192, 193, 194, 195, 196, 197, 198, 199, 200, 201, 202, 203, 204, 205, 206, 207, 208, 209, 210, 211, 212, 213, 214, 215, 216, 217, 218, 219, 220, 221, 222, 223, 224, 225]\n"
     ]
    },
    {
     "data": {
      "text/plain": [
       "<matplotlib.image.AxesImage at 0x2236bb159d0>"
      ]
     },
     "execution_count": 56,
     "metadata": {},
     "output_type": "execute_result"
    },
    {
     "data": {
      "image/png": "[encoded data removed]",
      "text/plain": [
       "<Figure size 640x480 with 1 Axes>"
      ]
     },
     "metadata": {},
     "output_type": "display_data"
    }
   ],
   "source": [
    "# Imports\n",
    "import numpy as np\n",
    "import matplotlib.pyplot as plt\n",
    "import pandas as pd\n",
    "from PIL import Image\n",
    "pd.set_option('display.max_columns', 100)\n",
    "\n",
    "class SegmentationClass:\n",
    "    def __init__(self):\n",
    "        self.p0 = None\n",
    "        self.x_a = None\n",
    "        self.x_b = None\n",
    "        self.resid_graph = None\n",
    "        self.loopcount = 0\n",
    "\n",
    "    def set_hyperparameters(self, p0, x_a, x_b):\n",
    "        self.p0 = p0\n",
    "        self.x_a = np.array(x_a)\n",
    "        self.x_b = np.array(x_b)\n",
    "\n",
    "    def euclidean_distance_color(self, rgb1, rgb2):\n",
    "        return np.sqrt(np.sum((rgb1 - rgb2) ** 2))\n",
    "    \n",
    "    def euclidean_distance_point(self, tuple1, tuple2):\n",
    "        return np.sqrt(np.sum((np.array(tuple1) - np.array(tuple2)) ** 2))\n",
    "\n",
    "    def calculate_weights_ss(self, I, x):\n",
    "        if 1:\n",
    "            a_x = 442 - round(self.euclidean_distance_color(I[tuple(x)], I[tuple(self.x_a)]))\n",
    "            b_x = 442 - round(self.euclidean_distance_color(I[tuple(x)], I[tuple(self.x_b)]))\n",
    "        if 0:\n",
    "            a_x = 442 - round(self.euclidean_distance_point(tuple(x), tuple(self.x_a)))\n",
    "            b_x = 442 - round(self.euclidean_distance_point(tuple(x), tuple(self.x_b)))\n",
    "        # print('a_x, b_x: ', a_x, b_x)\n",
    "        return a_x, b_x\n",
    "    \n",
    "    def calculatePixelWeight(self, I, x_i, x_j):\n",
    "        # Calculate pixel weight between neighboring pixels\n",
    "        # distance = self.euclidean_distance(I[x_i], I[x_j])\n",
    "        distance = self.euclidean_distance_point(tuple(x_i), tuple(x_j))\n",
    "        if distance < 2:\n",
    "            return self.p0\n",
    "        else:\n",
    "            return 0\n",
    "\n",
    "    def construct_adjacency_matrix(self, I):\n",
    "        N = I.shape[0]\n",
    "        size = N * N + 2 # Add source and sink to the graph\n",
    "        A = np.zeros((size, size))\n",
    "\n",
    "        for i in range(N):\n",
    "            for j in range(N):\n",
    "                current_pixel = (i, j)\n",
    "                current_idx = self.idx(current_pixel, N)\n",
    "\n",
    "                # Weights to source and sink\n",
    "                a_x, b_x = self.calculate_weights_ss(I, current_pixel)\n",
    "                A[size - 2][current_idx] = a_x  # Edge from super-source\n",
    "                A[current_idx][size - 1] = b_x  # Edge to super-sink\n",
    "\n",
    "                # Weights between neighboring pixels\n",
    "                for di in range(-1, 2):\n",
    "                    for dj in range(-1, 2):\n",
    "                        if di == 0 and dj == 0:\n",
    "                            continue\n",
    "                        ni, nj = i + di, j + dj\n",
    "                        if 0 <= ni < N and 0 <= nj < N:\n",
    "                            neighbor_idx = self.idx((ni, nj), N)\n",
    "                            weight = self.calculatePixelWeight(I, (i, j), (ni, nj))\n",
    "                            self.loopcount += 1\n",
    "                            A[current_idx][neighbor_idx] = weight\n",
    "            print(\"loop count: \", self.loopcount)\n",
    "\n",
    "        self.resid_graph = A\n",
    "\n",
    "        return A\n",
    "\n",
    "    def idx(self, x, N):\n",
    "        # Convert 2D coordinates to 1D index\n",
    "        return x[0] * N + x[1]\n",
    "    \n",
    "\n",
    "    def ford_fulkerson(self, graph, source, sink):\n",
    "        parent = [-1] * len(graph)  # Array to store the path\n",
    "        max_flow = 0  # Initial flow is 0\n",
    "\n",
    "        def bfs(resid_graph, source, sink, parent):\n",
    "            # Returns True if there is a path from source to sink\n",
    "            visited = [False] * len(resid_graph)\n",
    "            queue = []\n",
    "            queue.append(source)\n",
    "            visited[source] = True # Mark the source node as visited\n",
    "\n",
    "            while queue: # Standard BFS Loop\n",
    "                u = queue.pop(0)\n",
    "                for ind, val in enumerate(resid_graph[u]):\n",
    "                    if visited[ind] == False and val > 0:\n",
    "                        queue.append(ind)\n",
    "                        visited[ind] = True\n",
    "                        parent[ind] = u\n",
    "\n",
    "            return visited[sink]\n",
    "\n",
    "        while bfs(graph, source, sink, parent): # While there is a path from source to sink\n",
    "            # print('parent: ', parent)\n",
    "            path_flow = float(\"Inf\")\n",
    "            s = sink\n",
    "            while(s != source): # Find the minimum value in the path\n",
    "                path_flow = min(path_flow, graph[parent[s]][s]) \n",
    "                s = parent[s] # Move to the parent node\n",
    "\n",
    "            max_flow += path_flow # Add path flow to overall flow\n",
    "            v = sink\n",
    "            while(v != source): # Update the residual capacities of the edges and reverse edges along the path\n",
    "                u = parent[v] \n",
    "                graph[u][v] -= path_flow # Forward edge\n",
    "                graph[v][u] += path_flow # Backward edge\n",
    "                v = parent[v] # Move to the parent node\n",
    "\n",
    "        # After finding the max flow, perform a DFS from source to find the min-cut\n",
    "        def dfs(resid_graph, source, visited):\n",
    "            visited[source] = True\n",
    "            for i, val in enumerate(resid_graph[source]):\n",
    "                if not visited[i] and val > 0: \n",
    "                    dfs(resid_graph, i, visited)\n",
    "    \n",
    "        visited = [False] * len(graph)\n",
    "        dfs(graph, source, visited)\n",
    "\n",
    "        # The vertices visited by DFS are on the source side of the min cut\n",
    "        min_cut = [i for i in range(len(visited)) if visited[i]]\n",
    "\n",
    "        return max_flow, min_cut\n",
    "\n",
    "\n",
    "\n",
    "    def segment_image(self, I):\n",
    "        # This method should implement the segmentation logic using Ford-Fulkerson algorithm.\n",
    "        # We want to find the minimum cut in the graph constructed from the image\n",
    "        N = I.shape[0]\n",
    "        # Construct the adjacency matrix of the graph\n",
    "        A = self.construct_adjacency_matrix(I)\n",
    "\n",
    "        # Run Ford-Fulkerson algorithm to find the minimum cut\n",
    "        max_flow, min_cut = self.ford_fulkerson(A, N * N, N * N + 1) # Source and sink are the last two nodes\n",
    "        print('Max flow: ', max_flow)\n",
    "        print('Min cut: ', min_cut)\n",
    "\n",
    "        # Create a mask for the pixels in the foreground\n",
    "        mask = np.zeros((N, N))\n",
    "        for i in range(N):\n",
    "            for j in range(N):\n",
    "                if self.idx((i, j), N) in min_cut:\n",
    "                    mask[i][j] = 1 # Foreground\n",
    "\n",
    "        return mask\n",
    "\n",
    "\n",
    "# load image into numpy array with pillow   \n",
    "\n",
    "image_file = Image.open('../data/img/TestPics/test_Img_15.png')\n",
    "image_file = np.asarray(image_file).astype(np.int32) # CASTING THIS FIXED MY WHOLE PROGRAM!\n",
    "# keep only the first 3 channels (RGB)\n",
    "image_file = image_file[:, :, :3]\n",
    "\n",
    "# I = np.random.randint(0, 256, (5, 5, 3))  # Example image\n",
    "# # 5x5 image, orange T shape, blue background\n",
    "# image = np.array([[[255, 100, 0], [255, 100, 0], [255, 100, 0], [255, 100, 0], [255, 100, 0]],\n",
    "#               [[0, 0, 255], [0, 0, 255], [255, 100, 0], [0, 0, 255], [0, 0, 255]],\n",
    "#               [[0, 0, 255], [0, 0, 255], [255, 100, 0], [0, 0, 255], [0, 0, 255]],\n",
    "#               [[0, 0, 255], [0, 0, 255], [255, 100, 0], [0, 0, 255], [0, 0, 255]],\n",
    "#               [[0, 0, 255], [0, 0, 255], [255, 100, 0], [0, 0, 255], [0, 0, 255]]])\n",
    "image = np.array([[[0, 0, 0], [0, 0, 0], [0, 0, 0], [0, 0, 0], [0, 0, 0]],\n",
    "              [[0, 0, 0], [255, 174, 201], [237, 28, 36], [255, 174, 201], [0, 0, 0]],\n",
    "              [[0, 0, 0], [237, 28, 36], [255, 174, 201], [237, 28, 36], [0, 0, 0]],\n",
    "              [[0, 0, 0], [255, 174, 201], [237, 28, 36], [255, 174, 201], [0, 0, 0]],\n",
    "              [[0, 0, 0], [0, 0, 0], [0, 0, 0], [0, 0, 0], [0, 0, 0]]])\n",
    "\n",
    "image = image_file\n",
    "\n",
    "# show the image, with labels in each pixel (ordered 0 to N^2)\n",
    "plt.imshow(image)\n",
    "# for i in range(image.shape[0]):\n",
    "#     for j in range(image.shape[1]):\n",
    "#         plt.text(j, i, str(i * image.shape[0] + j), color='r', fontsize=12)\n",
    "# make fig bigger\n",
    "fig = plt.gcf()\n",
    "fig.set_size_inches(6, 6)\n",
    "plt.show()\n",
    "\n",
    "\n",
    "# Example usage\n",
    "obj = SegmentationClass()\n",
    "obj.set_hyperparameters(p0=10, x_a=[0, 0], x_b=[8, 6])\n",
    "\n",
    "# A = obj.construct_adjacency_matrix(image)\n",
    "\n",
    "segmenting_mask = obj.segment_image(image)\n",
    "\n",
    "# show the segmented image\n",
    "plt.imshow(segmenting_mask)"
   ]
  },
  {
   "cell_type": "code",
   "execution_count": null,
   "metadata": {},
   "outputs": [],
   "source": [
    "image.dtype"
   ]
  },
  {
   "cell_type": "code",
   "execution_count": null,
   "metadata": {},
   "outputs": [],
   "source": [
    "obj.euclidean_distance_point(tuple([0,0]), tuple([1,2]))"
   ]
  },
  {
   "cell_type": "code",
   "execution_count": null,
   "metadata": {},
   "outputs": [],
   "source": [
    "pd.DataFrame(obj.resid_graph)"
   ]
  },
  {
   "cell_type": "code",
   "execution_count": null,
   "metadata": {},
   "outputs": [],
   "source": [
    "# # After finding the max flow, determine which nodes are reachable from the source\n",
    "# graph = obj.resid_graph\n",
    "# N = int(np.sqrt(graph.shape[0]))\n",
    "# source_idx = obj.idx(obj.x_a, N)\n",
    "# reachable = [False] * len(graph)\n",
    "# def dfs(u):\n",
    "#     print('u: ', u)\n",
    "#     reachable[u] = True\n",
    "#     for ind, val in enumerate(graph[u]):\n",
    "#         print('[ind, val]: ', ind, val)\n",
    "#         if not reachable[ind] and val > 0:\n",
    "#             dfs(ind)\n",
    "# dfs(source_idx)"
   ]
  },
  {
   "cell_type": "code",
   "execution_count": null,
   "metadata": {},
   "outputs": [],
   "source": [
    "# # plot the obj.resid_graph using networkx, arrange the nodes in order in a square grid, undirected but has weights\n",
    "# import networkx as nx\n",
    "# G = nx.Graph()\n",
    "# the_graph = obj.resid_graph\n",
    "# N = int(np.sqrt(the_graph.shape[0]))\n",
    "# for i in range(N):\n",
    "#     for j in range(N):\n",
    "#         current_pixel = (i, j)\n",
    "#         current_idx = obj.idx(current_pixel, N)\n",
    "#         for di in range(-1, 2): # di, dj are used to iterate over the 8-neighborhood of pixel (i, j)\n",
    "#             for dj in range(-1, 2):\n",
    "#                 ni, nj = i + di, j + dj # ni, nj are the coordinates of the neighbor pixel\n",
    "#                 if 0 <= ni < N and 0 <= nj < N: # Check if (ni, nj) is a valid pixel\n",
    "#                     neighbor_idx = obj.idx((ni, nj), N)\n",
    "#                     if the_graph[current_idx][neighbor_idx] > 0:\n",
    "#                         G.add_edge(current_idx, neighbor_idx, weight=the_graph[current_idx][neighbor_idx])\n",
    "#                         # show weights on edges\n",
    "#                         G[current_idx][neighbor_idx]['weight'] = the_graph[current_idx][neighbor_idx]\n",
    "\n",
    "\n",
    "# nx.draw(G, with_labels=True)"
   ]
  }
 ],
 "metadata": {
  "kernelspec": {
   "display_name": "aispace",
   "language": "python",
   "name": "python3"
  },
  "language_info": {
   "codemirror_mode": {
    "name": "ipython",
    "version": 3
   },
   "file_extension": ".py",
   "mimetype": "text/x-python",
   "name": "python",
   "nbconvert_exporter": "python",
   "pygments_lexer": "ipython3",
   "version": "3.11.4"
  }
 },
 "nbformat": 4,
 "nbformat_minor": 2
}
