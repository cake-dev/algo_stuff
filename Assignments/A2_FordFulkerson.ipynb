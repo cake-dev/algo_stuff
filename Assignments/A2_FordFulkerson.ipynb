{
 "cells": [
  {
   "cell_type": "markdown",
   "metadata": {},
   "source": [
    "## CSCI 332 Fall 2022 - Software Assignment #2"
   ]
  },
  {
   "cell_type": "markdown",
   "metadata": {},
   "source": [
    "#### <u>Prompt</u>:\n",
    "\n",
    "Implement (i) Ford-Fulkerson algorithm\n",
    "\n",
    "use it in (ii) an implementation of the segmentation algorithm described in Section 7.10 of the Kleinberg/Tardos (KT) textbook.\n",
    "For full credit, you must implement the algorithm as described in Section 7.10 of the Kleinberg/Tardos textbook.\n",
    "\n",
    "Let $𝑥 ∈ 𝑁^2$ be row/column coordinates of a pixel, and $𝐼(𝑥) ∈ ℝ^3$ RGB values of a pixel at location $𝑥$. Per the implementation described in the KT textbook, each pixel is treated as a graph node and must have weights for: \n",
    "\n",
    "(i) the likelihood of that pixel being background, denoted here $𝑏(𝑥)$; \n",
    "\n",
    "(ii) the likelihood of that pixel being a foreground, denoted here $𝑎(𝑥)$; and \n",
    "\n",
    "(iii) the weights between neighboring pixels, denoted $𝑝(𝑥_𝑖, 𝑥_𝑗)$, where $𝑥_𝑖$ and $𝑥_𝑗$ are the coordinates of two pixels, $𝑖$ and $𝑗$. You must set these values in the following way:\n",
    "\n",
    "- (1) $a(x) = 442 - round(d(I(x),I(x_a)))$\n",
    "\n",
    "- (2) $b(x) = 442 - round(d(I(x),I(x_b)))$\n",
    "\n",
    "- (3) $\\begin{aligned}p(x_i, x_j) = \\begin{cases}p_0, & \\text{if } d(x_i, x_j) < 2 \\\\0, & \\text{otherwise}\\end{cases}\\end{aligned}$\n",
    "\n",
    "(where $d$ is the Euclidean distance between two pixels, and $x_a$ and $x_b$ are the coordinates of the two pixels that are the closest to $x$ and are known to be foreground and background, respectively.)\n",
    "\n",
    "In these equations $𝑑(𝐼(𝑥),𝐼(𝑥_𝑎))$ is the Euclidean distance between the RGB values at pixel coordinate $x$ and $x_a$. The coordinate $x$ is an arbitrary location in the image, while $x_a$, $x_b ∈ ℕ^2$ are coordinates of one background and one foreground pixel, respectively, that will be provided to your program as input. This is analogous to the way segmentation software is often used in practice; the user manually chooses one location in the image (i.e., a pixel coordinate) that represents the foreground they want to isolate, and one location in the image that represents the background."
   ]
  },
  {
   "cell_type": "markdown",
   "metadata": {},
   "source": [
    "---"
   ]
  },
  {
   "cell_type": "markdown",
   "metadata": {},
   "source": [
    "\n",
    "You can only utilize the following primitive python data structures inside your python class definition:\n",
    "python lists, python dictionaries, and numpy arrays.\n",
    "\n",
    "You can only utilize primitive python and numpy functions, such as sum, multiplication, division, exponentiation, logarithms, etc. \n",
    "\n",
    "One exception is that you may use someone else’s implementation of breadth-first-search or depth-first-search for use in FordFulkerson. If you are in doubt about any other functions, then please ask. Regardless of what operations and data structures you use, you must conform to the API provided below. "
   ]
  },
  {
   "cell_type": "markdown",
   "metadata": {},
   "source": [
    "---"
   ]
  },
  {
   "cell_type": "markdown",
   "metadata": {},
   "source": [
    "#### Additional Software Specifications and I/O:\n",
    "- All code must be written in Python.\n",
    "- You must use *exactly* the function names described below.\n",
    "- You may have additional functions in your class, as long as the required functions below are also\n",
    "included\n",
    "- Your class must have the following properties that can be set by the user\n",
    "    - segmentationClass.p0 – an <b>integer</b> value greater than one. This parameter will be\n",
    "used as 𝑝0\n",
    "in equation (3)\n",
    "    - segmentationClass.x_a - a 1x2 numpy array specifying the coordinate (row and\n",
    "column,respectively) of a location in the image representing the foreground.\n",
    "    - segmentationClass.x_b – a 1x2 numpy array specifying the coordinate (row and\n",
    "column,respectively) of a location in the image representing the background.\n",
    "- obj = segmentationClass()\n",
    "    - <b>Input</b>: none.\n",
    "    - <b>Output</b>: an object instantiated from your class. Your class should have the name as\n",
    "shown here ‘segmentationClass’.\n",
    "- L = obj.segmentImage(I)\n",
    "    - <b>Input</b>: 𝐼 is an 𝑁 × 𝑁 × 3 numpy array representing a color (RGB) image. Each pixel\n",
    "intensity will be have an integer value between 0 and 255.\n",
    "    - <b>Output</b>: 𝐿 is an 𝑁 × 𝑁 × 1 numpy array of binary values representing whether each\n",
    "pixel in the image is in the foreground (value of 1) or in the background (value of 0).<br>\n",
    "So, if pixel at location 𝑥 is in the foreground then 𝐿[𝑥] = 1, and if it is in the\n",
    "background we have 𝐿[𝑥] = 0, where 𝑥 is a coordinate pair, e.g., 𝑥 = (1,2) for the\n",
    "pixel in the $2^{nd}$ row and the third column (using python indexing).\n",
    "- A = obj.constructAdjacencyMatrix(I)\n",
    "    - <b>Input</b>: I is an 𝑁 × 𝑁 × 3 numpy array representing a color (RGB) image. Each pixel\n",
    "will have three intensity values, each being an integer value between 0 and 255.\n",
    "    - <b>Output</b>: A is an 𝑁 2 × 𝑁\n",
    "2 numpy array of values representing whether each pixel, 𝑥 in\n",
    "the image has an edge to any other pixel 𝑥′ in the image. The entries in the\n",
    "adjacency matrix should be positive if there is a connection between the nodes, with\n",
    "a value indicating the edge capacity between those nodes, and zero if there no edge\n",
    "connecting two nodes."
   ]
  },
  {
   "cell_type": "markdown",
   "metadata": {},
   "source": [
    "---"
   ]
  },
  {
   "cell_type": "markdown",
   "metadata": {},
   "source": [
    "#### Grading criteria\n",
    "- <b>Valid Testing Script</b> (50%): You must provide a .py “testing script” with your class that performs\n",
    "the following steps. Each of these steps must come with at least one comment that indicates\n",
    "what you are doing (10% points off if this is not done). You will lose 20% points for each one of\n",
    "the following steps that is missing, up to 50% points:\n",
    "    - Import your python class, assuming the class definition .py file is in the same file directory\n",
    "as the test script\n",
    "    - Load a test image, assuming the test image is in the same file directory as the test script\n",
    "    - Display the image using matplotlib package\n",
    "    - Instantiate your class, and set the hyperparameters\n",
    "    - Input the image to the segmentImage() function using the API specified above\n",
    "    - Display the adjacency matrix for the graph nodes corresponding to the pixels at location\n",
    "(0,0) and (1,0) in the image. The entries in the adjacency matrix should be positive if\n",
    "there is a connection between the nodes, with a value indicating the edge capacity\n",
    "between those nodes, and zero if there no edge connecting two nodes.\n",
    "    - Display the segmented image in black and white color using matplotlib, where\n",
    "segmentation values of 1 correspond to foreground (color of white), and values of 0\n",
    "correspond to the background (color of black)\n",
    "- <b>Correctness</b> (50%): I will input one or two images of my choosing (up to 15x15 pixels in size)\n",
    "into your code to verify that it produces the correct output for the top-level segmentation, as well\n",
    "as some intermediate steps. I will also vary the user-chosen hyperparameters such as 𝑥𝑎, 𝑥𝑏,\n",
    "and 𝑝0 and verify that the output changes properly."
   ]
  },
  {
   "cell_type": "markdown",
   "metadata": {},
   "source": [
    "--- "
   ]
  },
  {
   "cell_type": "markdown",
   "metadata": {},
   "source": [
    "#### How to submit the assignment:\n",
    "- Submission on Moodle by 11pm MST on 12/13/2022.\n",
    "- I recommend submitting early - at 11:01pm it will be considered a day late.\n",
    "- 5% off per day that the assignment is late, up to 2 days (11pm on Dec. 15th). 0% credit if\n",
    "submitted after Dec. 15th.\n",
    "- You must submit the following files:\n",
    "    - A .py file that contains the definition for your python class, per instructions below.\n",
    "    - A .py file that runs tests your python class, per instructions below.\n",
    "    - A simple .png image file for testing your script that is 5x5 pixels in size"
   ]
  },
  {
   "cell_type": "markdown",
   "metadata": {},
   "source": [
    "---"
   ]
  },
  {
   "cell_type": "code",
   "execution_count": 9,
   "metadata": {},
   "outputs": [],
   "source": [
    "# Imports\n",
    "import numpy as np"
   ]
  },
  {
   "cell_type": "code",
   "execution_count": 7,
   "metadata": {},
   "outputs": [],
   "source": [
    "class SegmentationClass:\n",
    "    def __init__(self):\n",
    "        self.p0 = None\n",
    "        self.x_a = None\n",
    "        self.x_b = None\n",
    "\n",
    "    def set_hyperparameters(self, p0, x_a, x_b):\n",
    "        self.p0 = p0\n",
    "        self.x_a = np.array(x_a)\n",
    "        self.x_b = np.array(x_b)\n",
    "\n",
    "    def euclidean_distance(self, rgb1, rgb2):\n",
    "        return np.sqrt(np.sum((rgb1 - rgb2) ** 2))\n",
    "\n",
    "    def calculate_weights(self, I, x):\n",
    "        a_x = 442 - round(self.euclidean_distance(I[tuple(x)], I[tuple(self.x_a)]))\n",
    "        b_x = 442 - round(self.euclidean_distance(I[tuple(x)], I[tuple(self.x_b)]))\n",
    "        return a_x, b_x\n",
    "\n",
    "    def construct_adjacency_matrix(self, I):\n",
    "        N = I.shape[0]\n",
    "        A = np.zeros((N * N, N * N))\n",
    "\n",
    "        for i in range(N):\n",
    "            for j in range(N):\n",
    "                for di in range(-1, 2):\n",
    "                    for dj in range(-1, 2):\n",
    "                        ni, nj = i + di, j + dj\n",
    "                        if 0 <= ni < N and 0 <= nj < N:\n",
    "                            d = self.euclidean_distance(I[i, j], I[ni, nj])\n",
    "                            A[i * N + j, ni * N + nj] = self.p0 if d < 2 else 0\n",
    "\n",
    "        return A\n",
    "\n",
    "    def segment_image(self, I):\n",
    "        # This method should implement the segmentation logic using Ford-Fulkerson\n",
    "        # and the weights calculated from calculate_weights method.\n",
    "        # Due to complexity, this is a placeholder for the actual implementation.\n",
    "        pass\n",
    "\n",
    "# Example usage\n",
    "obj = SegmentationClass()\n",
    "obj.set_hyperparameters(p0=10, x_a=[0, 0], x_b=[1, 1])\n",
    "I = np.random.randint(0, 256, (5, 5, 3))  # Example image\n",
    "A = obj.construct_adjacency_matrix(I)\n"
   ]
  },
  {
   "cell_type": "markdown",
   "metadata": {},
   "source": [
    "Below is the implementation of FF from https://www.geeksforgeeks.org/ford-fulkerson-algorithm-for-maximum-flow-problem/"
   ]
  },
  {
   "cell_type": "code",
   "execution_count": 12,
   "metadata": {},
   "outputs": [
    {
     "name": "stdout",
     "output_type": "stream",
     "text": [
      "The maximum possible flow is 21 \n"
     ]
    }
   ],
   "source": [
    "# Python program for implementation \n",
    "# of Ford Fulkerson algorithm\n",
    "from collections import defaultdict\n",
    "\n",
    "# This class represents a directed graph \n",
    "# using adjacency matrix representation\n",
    "class Graph:\n",
    "\n",
    "\tdef __init__(self, graph):\n",
    "\t\tself.graph = graph # residual graph\n",
    "\t\tself. ROW = len(graph)\n",
    "\t\t# self.COL = len(gr[0])\n",
    "\n",
    "\t'''Returns true if there is a path from source 's' to sink 't' in\n",
    "\tresidual graph. Also fills parent[] to store the path '''\n",
    "\n",
    "\tdef BFS(self, s, t, parent):\n",
    "\n",
    "\t\t# Mark all the vertices as not visited\n",
    "\t\tvisited = [False]*(self.ROW)\n",
    "\n",
    "\t\t# Create a queue for BFS\n",
    "\t\tqueue = []\n",
    "\n",
    "\t\t# Mark the source node as visited and enqueue it\n",
    "\t\tqueue.append(s)\n",
    "\t\tvisited[s] = True\n",
    "\n",
    "\t\t# Standard BFS Loop\n",
    "\t\twhile queue:\n",
    "\n",
    "\t\t\t# Dequeue a vertex from queue and print it\n",
    "\t\t\tu = queue.pop(0)\n",
    "\n",
    "\t\t\t# Get all adjacent vertices of the dequeued vertex u\n",
    "\t\t\t# If a adjacent has not been visited, then mark it\n",
    "\t\t\t# visited and enqueue it\n",
    "\t\t\tfor ind, val in enumerate(self.graph[u]):\n",
    "\t\t\t\tif visited[ind] == False and val > 0:\n",
    "\t\t\t\t\t# If we find a connection to the sink node, \n",
    "\t\t\t\t\t# then there is no point in BFS anymore\n",
    "\t\t\t\t\t# We just have to set its parent and can return true\n",
    "\t\t\t\t\tqueue.append(ind)\n",
    "\t\t\t\t\tvisited[ind] = True\n",
    "\t\t\t\t\tparent[ind] = u\n",
    "\t\t\t\t\tif ind == t:\n",
    "\t\t\t\t\t\treturn True\n",
    "\n",
    "\t\t# We didn't reach sink in BFS starting \n",
    "\t\t# from source, so return false\n",
    "\t\treturn False\n",
    "\t\t\t\n",
    "\t\n",
    "\t# Returns the maximum flow from s to t in the given graph\n",
    "\tdef FordFulkerson(self, source, sink):\n",
    "\n",
    "\t\t# This array is filled by BFS and to store path\n",
    "\t\tparent = [-1]*(self.ROW)\n",
    "\n",
    "\t\tmax_flow = 0 # There is no flow initially\n",
    "\n",
    "\t\t# Augment the flow while there is path from source to sink\n",
    "\t\twhile self.BFS(source, sink, parent) :\n",
    "\n",
    "\t\t\t# Find minimum residual capacity of the edges along the\n",
    "\t\t\t# path filled by BFS. Or we can say find the maximum flow\n",
    "\t\t\t# through the path found.\n",
    "\t\t\tpath_flow = float(\"Inf\")\n",
    "\t\t\ts = sink\n",
    "\t\t\twhile(s != source):\n",
    "\t\t\t\tpath_flow = min (path_flow, self.graph[parent[s]][s])\n",
    "\t\t\t\ts = parent[s]\n",
    "\n",
    "\t\t\t# Add path flow to overall flow\n",
    "\t\t\tmax_flow += path_flow\n",
    "\n",
    "\t\t\t# update residual capacities of the edges and reverse edges\n",
    "\t\t\t# along the path\n",
    "\t\t\tv = sink\n",
    "\t\t\twhile(v != source):\n",
    "\t\t\t\tu = parent[v]\n",
    "\t\t\t\tself.graph[u][v] -= path_flow\n",
    "\t\t\t\tself.graph[v][u] += path_flow\n",
    "\t\t\t\tv = parent[v]\n",
    "\n",
    "\t\treturn max_flow\n",
    "\n",
    "\n",
    "# Create a graph given in the above diagram\n",
    "\n",
    "graph = [[0, 16, 13, 0, 0, 0],\n",
    "\t\t[0, 0, 10, 12, 0, 0],\n",
    "\t\t[0, 4, 0, 0, 14, 0],\n",
    "\t\t[0, 0, 9, 0, 0, 20],\n",
    "\t\t[0, 0, 0, 7, 0, 4],\n",
    "\t\t[0, 0, 0, 0, 0, 0]]\n",
    "\n",
    "g = Graph(graph)\n",
    "\n",
    "source = 0; sink = 5\n",
    "\n",
    "print (\"The maximum possible flow is %d \" % g.FordFulkerson(source, sink))\n",
    "\n",
    "# This code is contributed by Neelam Yadav\n"
   ]
  }
 ],
 "metadata": {
  "kernelspec": {
   "display_name": "aispace",
   "language": "python",
   "name": "python3"
  },
  "language_info": {
   "codemirror_mode": {
    "name": "ipython",
    "version": 3
   },
   "file_extension": ".py",
   "mimetype": "text/x-python",
   "name": "python",
   "nbconvert_exporter": "python",
   "pygments_lexer": "ipython3",
   "version": "3.11.4"
  }
 },
 "nbformat": 4,
 "nbformat_minor": 2
}
