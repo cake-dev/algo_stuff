{
 "cells": [
  {
   "cell_type": "markdown",
   "metadata": {},
   "source": [
    "## CSCI 332 Fall 2022 - Software Assignment #2"
   ]
  },
  {
   "cell_type": "markdown",
   "metadata": {},
   "source": [
    "#### <u>Prompt</u>:\n",
    "\n",
    "Implement (i) Ford-Fulkerson algorithm\n",
    "\n",
    "use it in (ii) an implementation of the segmentation algorithm described in Section 7.10 of the Kleinberg/Tardos (KT) textbook.\n",
    "For full credit, you must implement the algorithm as described in Section 7.10 of the Kleinberg/Tardos textbook.\n",
    "\n",
    "Let $𝑥 ∈ 𝑁^2$ be row/column coordinates of a pixel, and $𝐼(𝑥) ∈ ℝ^3$ RGB values of a pixel at location $𝑥$. Per the implementation described in the KT textbook, each pixel is treated as a graph node and must have weights for: \n",
    "\n",
    "(i) the likelihood of that pixel being background, denoted here $𝑏(𝑥)$; \n",
    "\n",
    "(ii) the likelihood of that pixel being a foreground, denoted here $𝑎(𝑥)$; and \n",
    "\n",
    "(iii) the weights between neighboring pixels, denoted $𝑝(𝑥_𝑖, 𝑥_𝑗)$, where $𝑥_𝑖$ and $𝑥_𝑗$ are the coordinates of two pixels, $𝑖$ and $𝑗$. You must set these values in the following way:\n",
    "\n",
    "- (1) $a(x) = 442 - round(d(I(x),I(x_a)))$\n",
    "\n",
    "- (2) $b(x) = 442 - round(d(I(x),I(x_b)))$\n",
    "\n",
    "- (3) $\\begin{aligned}p(x_i, x_j) = \\begin{cases}p_0, & \\text{if } d(x_i, x_j) < 2 \\\\0, & \\text{otherwise}\\end{cases}\\end{aligned}$\n",
    "\n",
    "(where $d$ is the Euclidean distance between two pixels, and $x_a$ and $x_b$ are the coordinates of the two pixels that are the closest to $x$ and are known to be foreground and background, respectively.)\n",
    "\n",
    "In these equations $𝑑(𝐼(𝑥),𝐼(𝑥_𝑎))$ is the Euclidean distance between the RGB values at pixel coordinate $x$ and $x_a$. The coordinate $x$ is an arbitrary location in the image, while $x_a$, $x_b ∈ ℕ^2$ are coordinates of one background and one foreground pixel, respectively, that will be provided to your program as input. This is analogous to the way segmentation software is often used in practice; the user manually chooses one location in the image (i.e., a pixel coordinate) that represents the foreground they want to isolate, and one location in the image that represents the background."
   ]
  },
  {
   "cell_type": "markdown",
   "metadata": {},
   "source": [
    "---"
   ]
  },
  {
   "cell_type": "markdown",
   "metadata": {},
   "source": [
    "\n",
    "You can only utilize the following primitive python data structures inside your python class definition:\n",
    "python lists, python dictionaries, and numpy arrays.\n",
    "\n",
    "You can only utilize primitive python and numpy functions, such as sum, multiplication, division, exponentiation, logarithms, etc. \n",
    "\n",
    "One exception is that you may use someone else’s implementation of breadth-first-search or depth-first-search for use in FordFulkerson. If you are in doubt about any other functions, then please ask. Regardless of what operations and data structures you use, you must conform to the API provided below. "
   ]
  },
  {
   "cell_type": "markdown",
   "metadata": {},
   "source": [
    "---"
   ]
  },
  {
   "cell_type": "markdown",
   "metadata": {},
   "source": [
    "#### Additional Software Specifications and I/O:\n",
    "- All code must be written in Python.\n",
    "- You must use *exactly* the function names described below.\n",
    "- You may have additional functions in your class, as long as the required functions below are also\n",
    "included\n",
    "- Your class must have the following properties that can be set by the user\n",
    "    - segmentationClass.p0 – an <b>integer</b> value greater than one. This parameter will be\n",
    "used as 𝑝0\n",
    "in equation (3)\n",
    "    - segmentationClass.x_a - a 1x2 numpy array specifying the coordinate (row and\n",
    "column,respectively) of a location in the image representing the foreground.\n",
    "    - segmentationClass.x_b – a 1x2 numpy array specifying the coordinate (row and\n",
    "column,respectively) of a location in the image representing the background.\n",
    "- obj = segmentationClass()\n",
    "    - <b>Input</b>: none.\n",
    "    - <b>Output</b>: an object instantiated from your class. Your class should have the name as\n",
    "shown here ‘segmentationClass’.\n",
    "- L = obj.segmentImage(I)\n",
    "    - <b>Input</b>: 𝐼 is an 𝑁 × 𝑁 × 3 numpy array representing a color (RGB) image. Each pixel\n",
    "intensity will be have an integer value between 0 and 255.\n",
    "    - <b>Output</b>: 𝐿 is an 𝑁 × 𝑁 × 1 numpy array of binary values representing whether each\n",
    "pixel in the image is in the foreground (value of 1) or in the background (value of 0).<br>\n",
    "So, if pixel at location 𝑥 is in the foreground then 𝐿[𝑥] = 1, and if it is in the\n",
    "background we have 𝐿[𝑥] = 0, where 𝑥 is a coordinate pair, e.g., 𝑥 = (1,2) for the\n",
    "pixel in the $2^{nd}$ row and the third column (using python indexing).\n",
    "- A = obj.constructAdjacencyMatrix(I)\n",
    "    - <b>Input</b>: I is an 𝑁 × 𝑁 × 3 numpy array representing a color (RGB) image. Each pixel\n",
    "will have three intensity values, each being an integer value between 0 and 255.\n",
    "    - <b>Output</b>: A is an 𝑁 2 × 𝑁\n",
    "2 numpy array of values representing whether each pixel, 𝑥 in\n",
    "the image has an edge to any other pixel 𝑥′ in the image. The entries in the\n",
    "adjacency matrix should be positive if there is a connection between the nodes, with\n",
    "a value indicating the edge capacity between those nodes, and zero if there no edge\n",
    "connecting two nodes."
   ]
  },
  {
   "cell_type": "markdown",
   "metadata": {},
   "source": [
    "---"
   ]
  },
  {
   "cell_type": "markdown",
   "metadata": {},
   "source": [
    "#### Grading criteria\n",
    "- <b>Valid Testing Script</b> (50%): You must provide a .py “testing script” with your class that performs\n",
    "the following steps. Each of these steps must come with at least one comment that indicates\n",
    "what you are doing (10% points off if this is not done). You will lose 20% points for each one of\n",
    "the following steps that is missing, up to 50% points:\n",
    "    - Import your python class, assuming the class definition .py file is in the same file directory\n",
    "as the test script\n",
    "    - Load a test image, assuming the test image is in the same file directory as the test script\n",
    "    - Display the image using matplotlib package\n",
    "    - Instantiate your class, and set the hyperparameters\n",
    "    - Input the image to the segmentImage() function using the API specified above\n",
    "    - Display the adjacency matrix for the graph nodes corresponding to the pixels at location\n",
    "(0,0) and (1,0) in the image. The entries in the adjacency matrix should be positive if\n",
    "there is a connection between the nodes, with a value indicating the edge capacity\n",
    "between those nodes, and zero if there no edge connecting two nodes.\n",
    "    - Display the segmented image in black and white color using matplotlib, where\n",
    "segmentation values of 1 correspond to foreground (color of white), and values of 0\n",
    "correspond to the background (color of black)\n",
    "- <b>Correctness</b> (50%): I will input one or two images of my choosing (up to 15x15 pixels in size)\n",
    "into your code to verify that it produces the correct output for the top-level segmentation, as well\n",
    "as some intermediate steps. I will also vary the user-chosen hyperparameters such as 𝑥𝑎, 𝑥𝑏,\n",
    "and 𝑝0 and verify that the output changes properly."
   ]
  },
  {
   "cell_type": "markdown",
   "metadata": {},
   "source": [
    "--- "
   ]
  },
  {
   "cell_type": "markdown",
   "metadata": {},
   "source": [
    "#### How to submit the assignment:\n",
    "- Submission on Moodle by 11pm MST on 12/13/2022.\n",
    "- I recommend submitting early - at 11:01pm it will be considered a day late.\n",
    "- 5% off per day that the assignment is late, up to 2 days (11pm on Dec. 15th). 0% credit if\n",
    "submitted after Dec. 15th.\n",
    "- You must submit the following files:\n",
    "    - A .py file that contains the definition for your python class, per instructions below.\n",
    "    - A .py file that runs tests your python class, per instructions below.\n",
    "    - A simple .png image file for testing your script that is 5x5 pixels in size"
   ]
  },
  {
   "cell_type": "markdown",
   "metadata": {},
   "source": [
    "---"
   ]
  },
  {
   "cell_type": "markdown",
   "metadata": {},
   "source": [
    "Essentially, I want a min cut with x_a in one set and x_b in the other, this should separate the foreground from the background. I will use the Ford-Fulkerson algorithm to find the min cut.  Then I will use the min cut to separate the foreground from the background in the segmentImage function."
   ]
  },
  {
   "cell_type": "code",
   "execution_count": 1,
   "metadata": {},
   "outputs": [],
   "source": [
    "# Imports\n",
    "import numpy as np\n",
    "import matplotlib.pyplot as plt\n",
    "import networkx as nx\n",
    "import pandas as pd\n",
    "pd.set_option('display.max_columns', 100)"
   ]
  },
  {
   "cell_type": "code",
   "execution_count": 26,
   "metadata": {},
   "outputs": [
    {
     "data": {
      "image/png": "[encoded data removed]",
      "text/plain": [
       "<Figure size 640x480 with 1 Axes>"
      ]
     },
     "metadata": {},
     "output_type": "display_data"
    }
   ],
   "source": [
    "class SegmentationClass:\n",
    "    def __init__(self):\n",
    "        self.p0 = None\n",
    "        self.x_a = None\n",
    "        self.x_b = None\n",
    "\n",
    "    def set_hyperparameters(self, p0, x_a, x_b):\n",
    "        self.p0 = p0\n",
    "        self.x_a = np.array(x_a)\n",
    "        self.x_b = np.array(x_b)\n",
    "\n",
    "    def euclidean_distance(self, rgb1, rgb2):\n",
    "        return np.sqrt(np.sum((rgb1 - rgb2) ** 2))\n",
    "\n",
    "    def calculate_weights(self, I, x):\n",
    "        a_x = 442 - round(self.euclidean_distance(I[tuple(x)], I[tuple(self.x_a)]))\n",
    "        b_x = 442 - round(self.euclidean_distance(I[tuple(x)], I[tuple(self.x_b)]))\n",
    "        return a_x, b_x\n",
    "\n",
    "    def construct_adjacency_matrix(self, I):\n",
    "        N = I.shape[0]\n",
    "        A = np.zeros((N * N, N * N))\n",
    "\n",
    "        for i in range(N): # i, j are used to iterate over all pixels in the image\n",
    "            for j in range(N):\n",
    "                for di in range(-1, 2): # di, dj are used to iterate over the 8-neighborhood of pixel (i, j)\n",
    "                    for dj in range(-1, 2):\n",
    "                        ni, nj = i + di, j + dj # ni, nj are the coordinates of the neighbor pixel\n",
    "                        if 0 <= ni < N and 0 <= nj < N: # Check if (ni, nj) is a valid pixel\n",
    "                            A[i * N + j][ni * N + nj] = 1 # Add an edge between pixels (i, j) and (ni, nj)\n",
    "                            \n",
    "\n",
    "        return A\n",
    "\n",
    "    def idx(self, x, N):\n",
    "        # Convert 2D coordinates to 1D index\n",
    "        return x[0] * N + x[1]\n",
    "    \n",
    "    def ford_fulkerson(self, graph, source, sink):\n",
    "        '''\n",
    "        graph: adjacency matrix of the residual graph\n",
    "        source: index of the source node\n",
    "        sink: index of the sink node\n",
    "\n",
    "        returns: max flow from source to sink\n",
    "        '''\n",
    "        parent = [-1] * len(graph) # initialize parent array (-1 means no parent)\n",
    "        max_flow = 0 # initialize max flow\n",
    "        N = graph.shape[0]-1\n",
    "        source_idx = self.idx(source, N)\n",
    "        sink_idx = self.idx(sink, N)\n",
    "\n",
    "        indices_max_flow = []\n",
    "\n",
    "        def bfs(residual_graph, source_idx, sink_idx, parent):\n",
    "            '''\n",
    "            residual_graph: adjacency matrix of the residual graph\n",
    "            source: index of the source node\n",
    "            sink: index of the sink node\n",
    "            parent: list of parent nodes\n",
    "\n",
    "            returns: True if there is a path from source to sink in the residual graph\n",
    "            '''\n",
    "            visited = [False] * len(residual_graph) # initialize visited array\n",
    "            # print(len(residual_graph))\n",
    "            queue = []\n",
    "            queue.append(source_idx) # add source to queue and mark it as visited\n",
    "            visited[source_idx] = True\n",
    "\n",
    "            while queue: # while queue is not empty\n",
    "                u = queue.pop(0) # pop the first element of the queue\n",
    "                for ind, val in enumerate(residual_graph[u]): # iterate over all neighbors of u\n",
    "                    if visited[ind] == False and val > 0: # if neighbor is not visited and there is an edge between u and neighbor\n",
    "                        queue.append(ind)\n",
    "                        visited[ind] = True\n",
    "                        parent[ind] = u\n",
    "\n",
    "            return visited[sink_idx-1]\n",
    "\n",
    "        while bfs(graph, source_idx, sink_idx, parent): # while there is a path from source to sink in the residual graph\n",
    "            path_flow = float(\"Inf\") # initialize path flow to infinity\n",
    "            s = sink_idx-1 # start from sink and traverse the path to source\n",
    "            while(s != source_idx): # find the minimum residual capacity of the edges along the path\n",
    "                path_flow = min(path_flow, graph[parent[s]][s])\n",
    "                s = parent[s] # update s to its parent\n",
    "                if s not in indices_max_flow:\n",
    "                    indices_max_flow.append(s)\n",
    "\n",
    "            max_flow += path_flow # add path flow to max flow\n",
    "\n",
    "            v = sink_idx-1 # start from sink and traverse the path to source\n",
    "            while(v != source_idx): # update residual capacities of the edges and reverse edges along the path\n",
    "                u = parent[v] # update u to parent of v\n",
    "                graph[u][v] -= path_flow # subtract path flow from the edge\n",
    "                graph[v][u] += path_flow # add path flow to the reverse edge\n",
    "                v = parent[v] # update v to its parent\n",
    "                if v not in indices_max_flow:\n",
    "                    indices_max_flow.append(v)\n",
    "\n",
    "        return max_flow, indices_max_flow\n",
    "\n",
    "    def is_reachable_from_source(self, graph, source, node):\n",
    "        '''\n",
    "        graph: adjacency matrix of the residual graph\n",
    "        source: index of the source node\n",
    "        node: index of the node to check if it is reachable from source\n",
    "\n",
    "        returns: True if node is reachable from source in the residual graph\n",
    "        '''\n",
    "        N = graph.shape[0]\n",
    "        source_idx = self.idx(source, N)\n",
    "        visited = [False] * N\n",
    "\n",
    "        # print(len(visited))\n",
    "\n",
    "        def dfs(u):\n",
    "            '''\n",
    "            u: index of the node to start dfs\n",
    "            Used to assist is_reachable_from_source\n",
    "            '''\n",
    "            if visited[u] == False:\n",
    "                visited[u] = True\n",
    "                for ind, val in enumerate(graph[u]):\n",
    "                    if visited[ind] == False and val > 0:\n",
    "                        dfs(ind)\n",
    "\n",
    "        dfs(source_idx)\n",
    "        return visited[node]\n",
    "\n",
    "\n",
    "    def segment_image(self, I):\n",
    "        # This method should implement the segmentation logic using Ford-Fulkerson algorithm.\n",
    "        # We want to find the minimum cut in the graph constructed from the image, with x_a and x_b as the source and sink nodes.\n",
    "        # The weights of the edges between the pixels are calculated using the calculate_weights method.\n",
    "        N = I.shape[0]\n",
    "        # Construct the adjacency matrix of the graph\n",
    "        A = self.construct_adjacency_matrix(I)\n",
    "    \n",
    "        # Modify the graph based on the weights (capacities)\n",
    "        for i in range(N):\n",
    "            for j in range(N):\n",
    "                if (i, j) != tuple(self.x_a) and (i, j) != tuple(self.x_b): # If the pixel is not x_a or x_b\n",
    "                    a_x, b_x = self.calculate_weights(I, (i, j))\n",
    "                    # Update the capacities in the graph based on a_x and b_x\n",
    "                    # For example, adjust the capacity of edges connecting (i, j) to x_a and x_b\n",
    "                    A[i*N + j][self.x_a[0]*N + self.x_a[1]] = a_x\n",
    "                    A[i*N + j][self.x_b[0]*N + self.x_b[1]] = b_x\n",
    "                else: # If the pixel is x_a or x_b\n",
    "                    A[i*N + j][self.x_a[0]*N + self.x_a[1]] = 100000\n",
    "                    A[i*N + j][self.x_b[0]*N + self.x_b[1]] = 100000\n",
    "    \n",
    "        # Add source and sink to the graph with appropriate capacities\n",
    "        for i in range(N):\n",
    "            for j in range(N):\n",
    "                if (i, j) == tuple(self.x_a):\n",
    "                    A[N*N - 1][i*N + j] = 100000\n",
    "                elif (i, j) == tuple(self.x_b):\n",
    "                    A[i*N + j][N*N - 1] = 100000\n",
    "\n",
    "        # Run Ford-Fulkerson algorithm to find the minimum cut\n",
    "        max_flow, flow_indices = self.ford_fulkerson(A, self.x_a, self.x_b)\n",
    "        print(flow_indices)\n",
    "\n",
    "        # # Find the minimum cut\n",
    "        # min_cut = []\n",
    "        # for i in range(N):\n",
    "        #     for j in range(N):\n",
    "        #         if self.is_reachable_from_source(A, self.x_a, i*N + j) and not self.is_reachable_from_source(A, self.x_b, i*N + j):\n",
    "        #             min_cut.append((i, j))\n",
    "\n",
    "        # print(min_cut)\n",
    "        \n",
    "        # # use the minimum cut to segment the image\n",
    "        # segmented_image = np.zeros_like(I)\n",
    "        # for i in range(N):\n",
    "        #     for j in range(N):\n",
    "        #         if (i, j) in min_cut:\n",
    "        #             segmented_image[i][j] = 1\n",
    "        #         else:\n",
    "        #             segmented_image[i][j] = 0\n",
    "\n",
    "        # use the flow indices to segment the image\n",
    "        segmented_image = [0] * (N*N)\n",
    "        for i in flow_indices:\n",
    "            segmented_image[i] = 1\n",
    "        segmented_image = np.array(segmented_image).reshape((N, N))\n",
    "\n",
    "        return segmented_image\n",
    "\n",
    "\n",
    "# Example usage\n",
    "obj = SegmentationClass()\n",
    "obj.set_hyperparameters(p0=10, x_a=[0, 3], x_b=[0, 0])\n",
    "I = np.random.randint(0, 256, (5, 5, 3))  # Example image\n",
    "A = obj.construct_adjacency_matrix(I)\n",
    "\n",
    "# show the image, with labels in each pixel (ordered 0 to N^2)\n",
    "plt.imshow(I)\n",
    "for i in range(I.shape[0]):\n",
    "    for j in range(I.shape[1]):\n",
    "        plt.text(j, i, str(i * I.shape[0] + j), color='r', fontsize=12)\n",
    "plt.show()"
   ]
  },
  {
   "cell_type": "code",
   "execution_count": 27,
   "metadata": {},
   "outputs": [
    {
     "name": "stdout",
     "output_type": "stream",
     "text": [
      "[0, 3, 18, 12, 7, 19, 13, 8, 23, 17, 9]\n"
     ]
    },
    {
     "data": {
      "text/plain": [
       "<matplotlib.image.AxesImage at 0x7f6cb596d5a0>"
      ]
     },
     "execution_count": 27,
     "metadata": {},
     "output_type": "execute_result"
    },
    {
     "data": {
      "image/png": "[encoded data removed]",
      "text/plain": [
       "<Figure size 640x480 with 1 Axes>"
      ]
     },
     "metadata": {},
     "output_type": "display_data"
    }
   ],
   "source": [
    "segmented_image = obj.segment_image(I)\n",
    "plt.imshow(segmented_image)"
   ]
  }
 ],
 "metadata": {
  "kernelspec": {
   "display_name": "aispace",
   "language": "python",
   "name": "python3"
  },
  "language_info": {
   "codemirror_mode": {
    "name": "ipython",
    "version": 3
   },
   "file_extension": ".py",
   "mimetype": "text/x-python",
   "name": "python",
   "nbconvert_exporter": "python",
   "pygments_lexer": "ipython3",
   "version": "3.10.12"
  }
 },
 "nbformat": 4,
 "nbformat_minor": 2
}
