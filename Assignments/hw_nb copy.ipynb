{
 "cells": [
  {
   "cell_type": "code",
   "execution_count": 1,
   "metadata": {},
   "outputs": [],
   "source": [
    "import numpy as np\n",
    "import networkx as nx\n",
    "import matplotlib.pyplot as plt\n",
    "from MST import kruskalClass"
   ]
  },
  {
   "cell_type": "markdown",
   "metadata": {},
   "source": [
    "------------------------------------------------------------------------------------------"
   ]
  },
  {
   "cell_type": "code",
   "execution_count": null,
   "metadata": {},
   "outputs": [],
   "source": [
    "# Testing\n",
    "obj = kruskalClass()\n",
    "A = np.array([[0, 1, 3, 0], [0, 0, 2, 4], [0, 0, 0, 5], [0, 0, 0, 0]])\n",
    "T = obj.findMinimumSpanningTree(A)\n",
    "print(T)\n",
    "\n",
    "a = np.array([5, 2, 9, 1, 5, 6])\n",
    "b, inds = obj.mergesort(a)\n",
    "print(b)\n",
    "print(inds)\n",
    "\n",
    "# Testing\n",
    "obj = kruskalClass()\n",
    "A = np.array([[0, 1, 3, 0], [0, 0, 2, 4], [0, 0, 0, 5], [0, 0, 0, 0]])\n",
    "obj.plotMinimumSpanningTree(A)\n"
   ]
  }
 ],
 "metadata": {
  "kernelspec": {
   "display_name": "sportsenv",
   "language": "python",
   "name": "python3"
  },
  "language_info": {
   "codemirror_mode": {
    "name": "ipython",
    "version": 3
   },
   "file_extension": ".py",
   "mimetype": "text/x-python",
   "name": "python",
   "nbconvert_exporter": "python",
   "pygments_lexer": "ipython3",
   "version": "3.10.12"
  },
  "orig_nbformat": 4
 },
 "nbformat": 4,
 "nbformat_minor": 2
}
